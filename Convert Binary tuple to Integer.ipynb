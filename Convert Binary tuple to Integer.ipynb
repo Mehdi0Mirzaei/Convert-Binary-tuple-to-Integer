{
 "cells": [
  {
   "cell_type": "code",
   "execution_count": 25,
   "id": "bf56919f",
   "metadata": {},
   "outputs": [
    {
     "name": "stdout",
     "output_type": "stream",
     "text": [
      "The original tuple is : (1, 1, 0, 1, 0, 0, 1)\n",
      "Decimal number is : 105\n"
     ]
    }
   ],
   "source": [
    "# initializing tuple\n",
    "test_tup = (1, 1, 0, 1, 0, 0, 1)\n",
    " \n",
    "# printing original tuple\n",
    "print(\"The original tuple is : \" + str(test_tup))\n",
    " \n",
    "# using int() with base to get actual number\n",
    "res = int(\"\".join(str(ele) for ele in test_tup), 2) \n",
    " \n",
    "# printing result \n",
    "print(\"Decimal number is : \" + str(res))"
   ]
  },
  {
   "cell_type": "code",
   "execution_count": 26,
   "id": "57967785",
   "metadata": {},
   "outputs": [
    {
     "name": "stdout",
     "output_type": "stream",
     "text": [
      "The original tuple is : (1, 1, 0, 1, 0, 0, 1)\n",
      "Decimal number is : 105\n"
     ]
    }
   ],
   "source": [
    "# initializing tuple\n",
    "test_tup = (1, 1, 0, 1, 0, 0, 1)\n",
    " \n",
    "# printing original tuple\n",
    "print(\"The original tuple is : \" + str(test_tup))\n",
    " \n",
    "res = 0\n",
    "for ele in test_tup:\n",
    "     # left bit shift and or operator\n",
    "    # for intermediate addition\n",
    "    res = (res << 1) | ele\n",
    " # printing result\n",
    "print(\"Decimal number is : \" + str(res))"
   ]
  },
  {
   "cell_type": "code",
   "execution_count": 27,
   "id": "56d13ed2",
   "metadata": {},
   "outputs": [
    {
     "name": "stdout",
     "output_type": "stream",
     "text": [
      "The original tuple is : (1, 1, 0, 1, 0, 0, 1)\n",
      "Decimal number is : 105\n"
     ]
    }
   ],
   "source": [
    "# initializing tuple\n",
    "test_tup = (1, 1, 0, 1, 0, 0, 1)\n",
    " \n",
    "# printing original tuple\n",
    "print(\"The original tuple is : \" + str(test_tup))\n",
    " \n",
    "# using int() with base to get actual number\n",
    "x = list(map(str, test_tup))\n",
    "x = \"\".join(x)\n",
    "res = int(x, 2)\n",
    " \n",
    "# printing result\n",
    "print(\"Decimal number is : \" + str(res))"
   ]
  },
  {
   "cell_type": "code",
   "execution_count": 28,
   "id": "0726fc57",
   "metadata": {},
   "outputs": [
    {
     "name": "stdout",
     "output_type": "stream",
     "text": [
      "The original tuple is : (1, 1, 0, 1, 0, 0, 1)\n",
      "Decimal number is : 105\n"
     ]
    }
   ],
   "source": [
    "# initializing tuple\n",
    "test_tup = (1, 1, 0, 1, 0, 0, 1)\n",
    " \n",
    "# printing original tuple\n",
    "print(\"The original tuple is : \" + str(test_tup))\n",
    " \n",
    "res = 0\n",
    "j = 0\n",
    " \n",
    "for i in range(len(test_tup), 0, -1):\n",
    "    x = 2**j\n",
    "    res += x*test_tup[i-1]\n",
    "    if(j > len(test_tup)):\n",
    " \n",
    "        break\n",
    " \n",
    "    j += 1\n",
    " # printing result\n",
    "print(\"Decimal number is : \" + str(res))\n"
   ]
  },
  {
   "cell_type": "code",
   "execution_count": 29,
   "id": "4728139e",
   "metadata": {},
   "outputs": [
    {
     "name": "stdout",
     "output_type": "stream",
     "text": [
      "The output integer is: 6\n"
     ]
    }
   ],
   "source": [
    "binary_tuple = (1, 1, 0)\n",
    "result = 0\n",
    "length = len(binary_tuple)\n",
    "for i in range(length):\n",
    "    element = binary_tuple[length - i - 1]\n",
    "    result = result + element*pow(2, i)\n",
    "print(\"The output integer is:\", result)"
   ]
  },
  {
   "cell_type": "code",
   "execution_count": 30,
   "id": "8ca85b86",
   "metadata": {},
   "outputs": [
    {
     "name": "stdout",
     "output_type": "stream",
     "text": [
      "The original tuple is : (1, 1, 0, 1, 0, 0, 1)\n",
      "Decimal number is : 105\n"
     ]
    }
   ],
   "source": [
    "# initializing tuple\n",
    "test_tup = (1, 1, 0, 1, 0, 0, 1)\n",
    " \n",
    "# printing original tuple\n",
    "print(\"The original tuple is : \" + str(test_tup))\n",
    " \n",
    "# using bit shifting and bitwise operations to get actual number\n",
    "res = 0\n",
    "for bit in test_tup:\n",
    "    res = (res << 1) | bit\n",
    " # printing result\n",
    "print(\"Decimal number is : \" + str(res))"
   ]
  },
  {
   "cell_type": "code",
   "execution_count": 31,
   "id": "12333a11",
   "metadata": {},
   "outputs": [
    {
     "name": "stdout",
     "output_type": "stream",
     "text": [
      "The original tuple is : (1, 1, 0, 1, 0, 0, 1)\n",
      "Decimal number is : 105\n"
     ]
    }
   ],
   "source": [
    "def binary_tuple_to_int(binary_tup):\n",
    "    if len(binary_tup) == 0:\n",
    "        return 0\n",
    "    else:\n",
    "        return binary_tup[0] * 2**(len(binary_tup)-1) + binary_tuple_to_int(binary_tup[1:])\n",
    "# initializing tuple\n",
    "test_tup = (1, 1, 0, 1, 0, 0, 1)\n",
    " \n",
    "# printing original tuple\n",
    "print(\"The original tuple is : \" + str(test_tup))\n",
    " \n",
    "# calling recursive method\n",
    "res = binary_tuple_to_int(test_tup)\n",
    " \n",
    "# printing result\n",
    "print(\"Decimal number is : \" + str(res))"
   ]
  },
  {
   "cell_type": "code",
   "execution_count": null,
   "id": "9fc021f4",
   "metadata": {},
   "outputs": [],
   "source": []
  }
 ],
 "metadata": {
  "kernelspec": {
   "display_name": "Python 3 (ipykernel)",
   "language": "python",
   "name": "python3"
  },
  "language_info": {
   "codemirror_mode": {
    "name": "ipython",
    "version": 3
   },
   "file_extension": ".py",
   "mimetype": "text/x-python",
   "name": "python",
   "nbconvert_exporter": "python",
   "pygments_lexer": "ipython3",
   "version": "3.9.13"
  }
 },
 "nbformat": 4,
 "nbformat_minor": 5
}
